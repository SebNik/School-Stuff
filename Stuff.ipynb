{
 "cells": [
  {
   "cell_type": "markdown",
   "id": "cef61cbd",
   "metadata": {},
   "source": [
    "# Just the regular shit "
   ]
  },
  {
   "cell_type": "code",
   "execution_count": 2,
   "id": "af47df27",
   "metadata": {},
   "outputs": [],
   "source": [
    "# just all the imports\n",
    "import numpy as np"
   ]
  },
  {
   "cell_type": "code",
   "execution_count": null,
   "id": "d14710a5",
   "metadata": {},
   "outputs": [],
   "source": []
  },
  {
   "cell_type": "code",
   "execution_count": 51,
   "id": "fd2e16a9",
   "metadata": {},
   "outputs": [],
   "source": [
    "a = np.array([1,1,3])\n",
    "a_hat = a / np.linalg.norm(a)\n",
    "b = np.array([2,5,5])"
   ]
  },
  {
   "cell_type": "code",
   "execution_count": 53,
   "id": "5e8b0050",
   "metadata": {},
   "outputs": [
    {
     "data": {
      "text/plain": [
       "(3.1622776601683773, 54.0, 44.000000000000014)"
      ]
     },
     "execution_count": 53,
     "metadata": {},
     "output_type": "execute_result"
    }
   ],
   "source": [
    "r = np.linalg.norm(b)**2\n",
    "t = np.linalg.norm(np.dot(a_hat,b))**2\n",
    "\n",
    "c = r - t\n",
    "d = c**0.5\n",
    "d, r, t"
   ]
  },
  {
   "cell_type": "code",
   "execution_count": null,
   "id": "7fcb6fa2",
   "metadata": {},
   "outputs": [],
   "source": []
  },
  {
   "cell_type": "code",
   "execution_count": null,
   "id": "a75d9554",
   "metadata": {},
   "outputs": [],
   "source": []
  },
  {
   "cell_type": "code",
   "execution_count": null,
   "id": "0f549c2c",
   "metadata": {},
   "outputs": [],
   "source": []
  },
  {
   "cell_type": "code",
   "execution_count": 42,
   "id": "53f0149d",
   "metadata": {},
   "outputs": [],
   "source": [
    "c = np.array(((np.linalg.norm(b)**2)-(np.linalg.norm(a_hat*b)**2))**0.5)"
   ]
  },
  {
   "cell_type": "code",
   "execution_count": 43,
   "id": "8d6a71d7",
   "metadata": {},
   "outputs": [
    {
     "data": {
      "text/plain": [
       "array(8.65136717)"
      ]
     },
     "execution_count": 43,
     "metadata": {},
     "output_type": "execute_result"
    }
   ],
   "source": [
    "c"
   ]
  },
  {
   "cell_type": "code",
   "execution_count": 44,
   "id": "2e482b29",
   "metadata": {},
   "outputs": [
    {
     "data": {
      "text/plain": [
       "8.651367166301165"
      ]
     },
     "execution_count": 44,
     "metadata": {},
     "output_type": "execute_result"
    }
   ],
   "source": [
    "np.linalg.norm(c)"
   ]
  },
  {
   "cell_type": "code",
   "execution_count": null,
   "id": "c102de69",
   "metadata": {},
   "outputs": [],
   "source": []
  },
  {
   "cell_type": "code",
   "execution_count": null,
   "id": "c860d1e7",
   "metadata": {},
   "outputs": [],
   "source": []
  },
  {
   "cell_type": "code",
   "execution_count": 3,
   "id": "59c147fd",
   "metadata": {},
   "outputs": [],
   "source": [
    "a = np.array([1,2,3])\n",
    "b = np.array([-2,-1,-3])\n",
    "c = np.array([-2,-4,0])\n",
    "d = np.array([-5,-7,-6])"
   ]
  },
  {
   "cell_type": "code",
   "execution_count": 7,
   "id": "c58e073d",
   "metadata": {},
   "outputs": [
    {
     "data": {
      "text/plain": [
       "7.3484692283495345"
      ]
     },
     "execution_count": 7,
     "metadata": {},
     "output_type": "execute_result"
    }
   ],
   "source": [
    "np.linalg.norm(d-b)"
   ]
  },
  {
   "cell_type": "code",
   "execution_count": null,
   "id": "d6f13aae",
   "metadata": {},
   "outputs": [],
   "source": []
  }
 ],
 "metadata": {
  "kernelspec": {
   "display_name": "Python 3.8.8 64-bit ('base': conda)",
   "language": "python",
   "name": "python388jvsc74a57bd0c7eea60f8809a76eae1cc3b53786620a3765221716aed14bd366d924cf46e245"
  },
  "language_info": {
   "codemirror_mode": {
    "name": "ipython",
    "version": 3
   },
   "file_extension": ".py",
   "mimetype": "text/x-python",
   "name": "python",
   "nbconvert_exporter": "python",
   "pygments_lexer": "ipython3",
   "version": "3.8.8"
  }
 },
 "nbformat": 4,
 "nbformat_minor": 5
}
