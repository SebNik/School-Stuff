{
 "cells": [
  {
   "cell_type": "markdown",
   "id": "678f92ca",
   "metadata": {},
   "source": [
    "## Einführung in Python"
   ]
  },
  {
   "cell_type": "markdown",
   "id": "eb281834",
   "metadata": {},
   "source": [
    "jkadflsdjf $\\frac{2}{4}$"
   ]
  },
  {
   "cell_type": "code",
   "execution_count": 5,
   "id": "3b9bbff1",
   "metadata": {},
   "outputs": [
    {
     "name": "stdout",
     "output_type": "stream",
     "text": [
      "Hallo Welt\n",
      "Test\n"
     ]
    }
   ],
   "source": [
    "print(\"Hallo Welt\")\n",
    "print(\"Test\")"
   ]
  },
  {
   "cell_type": "code",
   "execution_count": 13,
   "id": "b9060bb7",
   "metadata": {},
   "outputs": [
    {
     "name": "stdout",
     "output_type": "stream",
     "text": [
      "3.5\n"
     ]
    }
   ],
   "source": [
    "a = 1.5\n",
    "b = 2\n",
    "a, b = b, a\n",
    "\n",
    "print(a+b)"
   ]
  },
  {
   "cell_type": "code",
   "execution_count": 18,
   "id": "a80ed5c6",
   "metadata": {},
   "outputs": [
    {
     "name": "stdout",
     "output_type": "stream",
     "text": [
      "Test\n"
     ]
    }
   ],
   "source": [
    "liste = [1,2,3, None, \"Test\"]\n",
    "print(liste[-1])"
   ]
  },
  {
   "cell_type": "code",
   "execution_count": null,
   "id": "a693c90b",
   "metadata": {},
   "outputs": [],
   "source": []
  },
  {
   "cell_type": "code",
   "execution_count": 24,
   "id": "549362f4",
   "metadata": {},
   "outputs": [
    {
     "name": "stdout",
     "output_type": "stream",
     "text": [
      "6\n"
     ]
    }
   ],
   "source": [
    "a=6\n",
    "if a==5:\n",
    "    print(\"A ist 5\")\n",
    "elif a==6:\n",
    "    print(\"6\")\n",
    "else:\n",
    "    print(\"Nicht in if\")"
   ]
  },
  {
   "cell_type": "code",
   "execution_count": 26,
   "id": "edf78924",
   "metadata": {},
   "outputs": [
    {
     "name": "stdout",
     "output_type": "stream",
     "text": [
      "1\n",
      "2\n",
      "3\n",
      "None\n",
      "Test\n"
     ]
    }
   ],
   "source": [
    "for i in liste: # for (inta=; a<20; a++)\n",
    "    print(i)"
   ]
  },
  {
   "cell_type": "code",
   "execution_count": 33,
   "id": "6510070b",
   "metadata": {},
   "outputs": [
    {
     "name": "stdout",
     "output_type": "stream",
     "text": [
      "Hallo\n"
     ]
    }
   ],
   "source": [
    "def ausgabe():\n",
    "    print(\"Hallo\")\n",
    "    \n",
    "ausgabe()"
   ]
  },
  {
   "cell_type": "code",
   "execution_count": 35,
   "id": "d834d278",
   "metadata": {},
   "outputs": [],
   "source": [
    "def summe(a,b=5):\n",
    "    print(a, b)\n",
    "    for i in range(10):\n",
    "        print(i)\n",
    "    return a+b"
   ]
  },
  {
   "cell_type": "code",
   "execution_count": 36,
   "id": "e9d97f1a",
   "metadata": {},
   "outputs": [
    {
     "name": "stdout",
     "output_type": "stream",
     "text": [
      "5 5\n",
      "0\n",
      "1\n",
      "2\n",
      "3\n",
      "4\n",
      "5\n",
      "6\n",
      "7\n",
      "8\n",
      "9\n"
     ]
    },
    {
     "data": {
      "text/plain": [
       "10"
      ]
     },
     "execution_count": 36,
     "metadata": {},
     "output_type": "execute_result"
    }
   ],
   "source": [
    "summe(5)"
   ]
  },
  {
   "cell_type": "code",
   "execution_count": 45,
   "id": "935305f6",
   "metadata": {},
   "outputs": [],
   "source": [
    "import math"
   ]
  },
  {
   "cell_type": "code",
   "execution_count": 46,
   "id": "0db080e4",
   "metadata": {},
   "outputs": [],
   "source": [
    "class Circle():\n",
    "    def __init__(self, radius):\n",
    "        self.r = radius\n",
    "        \n",
    "    def fläche(self):\n",
    "        return self.r**2 * math.pi"
   ]
  },
  {
   "cell_type": "code",
   "execution_count": 47,
   "id": "9c3a0be0",
   "metadata": {},
   "outputs": [
    {
     "data": {
      "text/plain": [
       "78.53981633974483"
      ]
     },
     "execution_count": 47,
     "metadata": {},
     "output_type": "execute_result"
    }
   ],
   "source": [
    "k = Circle(5)\n",
    "k.r\n",
    "k.fläche()"
   ]
  },
  {
   "cell_type": "code",
   "execution_count": null,
   "id": "3279f825",
   "metadata": {},
   "outputs": [],
   "source": []
  },
  {
   "cell_type": "code",
   "execution_count": null,
   "id": "9ca76d79",
   "metadata": {},
   "outputs": [],
   "source": []
  }
 ],
 "metadata": {
  "kernelspec": {
   "display_name": "Python 3.8.8 64-bit ('base': conda)",
   "language": "python",
   "name": "python388jvsc74a57bd0c7eea60f8809a76eae1cc3b53786620a3765221716aed14bd366d924cf46e245"
  },
  "language_info": {
   "codemirror_mode": {
    "name": "ipython",
    "version": 3
   },
   "file_extension": ".py",
   "mimetype": "text/x-python",
   "name": "python",
   "nbconvert_exporter": "python",
   "pygments_lexer": "ipython3",
   "version": "3.8.8"
  }
 },
 "nbformat": 4,
 "nbformat_minor": 5
}
