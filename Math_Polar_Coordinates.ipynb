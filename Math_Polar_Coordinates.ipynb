{
 "cells": [
  {
   "cell_type": "markdown",
   "id": "061f9c31",
   "metadata": {},
   "source": [
    "## Math Polar Coordinates "
   ]
  },
  {
   "cell_type": "code",
   "execution_count": null,
   "id": "e6022b3f",
   "metadata": {},
   "outputs": [],
   "source": []
  },
  {
   "cell_type": "code",
   "execution_count": 204,
   "id": "07a776b8",
   "metadata": {},
   "outputs": [],
   "source": [
    "import os\n",
    "import math\n",
    "import datetime\n",
    "import numpy as np\n",
    "import matplotlib.pyplot as plt"
   ]
  },
  {
   "cell_type": "code",
   "execution_count": 205,
   "id": "b6d94f57",
   "metadata": {},
   "outputs": [],
   "source": [
    "# %matplotlib inline"
   ]
  },
  {
   "cell_type": "code",
   "execution_count": 206,
   "id": "f2c12640",
   "metadata": {},
   "outputs": [
    {
     "data": {
      "image/png": "[encoded data removed]",
      "text/plain": [
       "<Figure size 432x288 with 1 Axes>"
      ]
     },
     "metadata": {
      "needs_background": "light"
     },
     "output_type": "display_data"
    }
   ],
   "source": [
    "  \n",
    "# assign coordinates\n",
    "x = np.linspace(-np.pi, np.pi*4, 100)\n",
    "y = 2*np.sin(x)\n",
    "  \n",
    "# use set_position\n",
    "ax = plt.gca()\n",
    "ax.spines['top'].set_color('none')\n",
    "ax.spines['left'].set_position('zero')\n",
    "ax.spines['right'].set_color('none')\n",
    "ax.spines['bottom'].set_position('zero')\n",
    "  \n",
    "# depict illustration\n",
    "#plt.xlim(-np.pi, np.pi)\n",
    "plt.plot(x, y)\n",
    "plt.grid(True)\n",
    "plt.show()"
   ]
  },
  {
   "cell_type": "code",
   "execution_count": 207,
   "id": "3290d7be",
   "metadata": {},
   "outputs": [],
   "source": [
    "def cart2pol(x, y):\n",
    "    rho = np.sqrt(x**2 + y**2)\n",
    "    phi = np.arctan2(y, x)\n",
    "    return(rho, phi)\n",
    "\n",
    "def pol2cart(rho, phi):\n",
    "    x = rho * np.cos(phi)\n",
    "    y = rho * np.sin(phi)\n",
    "    return(x, y)"
   ]
  },
  {
   "cell_type": "code",
   "execution_count": 208,
   "id": "5ecc92d6",
   "metadata": {},
   "outputs": [],
   "source": [
    "class Function:\n",
    "    def __init__(self, phi, R, p, omega):\n",
    "        #print(\"Creating a new function for polar coordinates\")\n",
    "        self.phi = phi\n",
    "        self.R = R\n",
    "        self.p = p\n",
    "        self.omega = omega\n",
    "        \n",
    "    def cal_x_y_coordinates(self, phi, R, p):\n",
    "        # calculating the values of x and y\n",
    "        # checking with the omega if movement\n",
    "        if self.omega is None:\n",
    "            x = math.cos(phi) * R + p[0]\n",
    "            y = math.sin(phi) * R + p[1]\n",
    "        else:\n",
    "            x = math.cos(phi * self.omega) * R + p[0]\n",
    "            y = math.sin(phi * self.omega) * R + p[1]\n",
    "        return x,y"
   ]
  },
  {
   "cell_type": "code",
   "execution_count": 246,
   "id": "18d91586",
   "metadata": {},
   "outputs": [],
   "source": [
    "class System:\n",
    "    def __init__(self):\n",
    "        self.functions = []\n",
    "        \n",
    "    def add_function(self, f):\n",
    "        self.functions.append(f)\n",
    "        \n",
    "    def cal_point(self, phi, R):\n",
    "        #\n",
    "        x,y = 0,0\n",
    "        \n",
    "        if R is None:\n",
    "            for f in self.functions:\n",
    "                x_f, y_f = f.cal_x_y_coordinates(phi, f.R, f.p)\n",
    "                x += x_f\n",
    "                y += y_f\n",
    "                \n",
    "        return np.array([x,y])\n",
    "    \n",
    "    def plot_range(self, phi, R, n):\n",
    "        #\n",
    "        if R is None:\n",
    "            range_phi = np.linspace(phi[0], phi[1], num=n)\n",
    "            data = [self.cal_point(phi, R) for phi in range_phi]\n",
    "            \n",
    "            return np.array(data)\n",
    "        \n",
    "        \n",
    "    def plot_images_range(self, steps, time_range, folder=None, single_levers=True, R=None, scale=1.25, path_line=True):\n",
    "        # this function is plotting the images in a special folder\n",
    "        if (len(self.functions) < 1):\n",
    "            print(' ------- No functions to simulate ------------')\n",
    "            return None\n",
    "        \n",
    "        if not os.path.isdir('images'):\n",
    "            os.makedirs('images')\n",
    "        self.newpath = 'images/'+str(datetime.datetime.now().strftime(\"%d_%m_%Y__%H_%M_%S\"))\n",
    "        os.makedirs(self.newpath)\n",
    "        \n",
    "        steps_array = np.linspace(time_range[0],time_range[1], num = steps)\n",
    "\n",
    "        for i in range(0, len(steps_array)):\n",
    "            if R is None:\n",
    "                data_point = self.cal_point(steps_array[i], R)\n",
    "\n",
    "                fig, ax = plt.subplots()\n",
    "                max_p = sum([f.R for f in self.functions])\n",
    "\n",
    "                if single_levers:\n",
    "                    start_p = [0,0]\n",
    "                    for f in self.functions:\n",
    "                        x_f, y_f = f.cal_x_y_coordinates(steps_array[i], f.R, start_p)\n",
    "                        ax.plot([start_p[0],x_f], [start_p[1],y_f])\n",
    "                        start_p = [x_f,y_f]\n",
    "                \n",
    "                if path_line:\n",
    "                    range_phi = np.linspace(time_range[0], steps_array[i], num=300)\n",
    "                    data = np.array([self.cal_point(phi, R) for phi in range_phi])\n",
    "                    ax.plot(data[:,0], data[:,1], c='r', alpha=0.3, linewidth=2)\n",
    "                    \n",
    "\n",
    "                ax.set_xlim(max_p*scale, max_p*scale*-1)\n",
    "                ax.set_ylim(max_p*scale, max_p*scale*-1)\n",
    "                plt.grid(True)\n",
    "                ax.scatter(data_point[0], data_point[1], c='r')\n",
    "                fig.savefig(self.newpath+'/'+str(i)+'.png')\n",
    "                plt.close()\n",
    "                plt.clf()\n",
    "        \n",
    "\n",
    "    def plot_single_point(self, phi, R, scale=1.25, single_levers=True):\n",
    "        # plotting a single point\n",
    "        # only phi and R is None        \n",
    "        \n",
    "        if R is None:\n",
    "            data_point = self.cal_point(phi, R)\n",
    "\n",
    "            # plt.xlim(data_point[0]*scale, data_point[0]*scale*-1)\n",
    "            # plt.ylim(data_point[1]*scale, data_point[1]*scale*-1)\n",
    "            max_p = sum([f.R for f in self.functions])\n",
    "\n",
    "            if single_levers:\n",
    "                start_p = [0,0]\n",
    "                for f in self.functions:\n",
    "                    x_f, y_f = f.cal_x_y_coordinates(phi, f.R, start_p)\n",
    "                    plt.plot([start_p[0],x_f], [start_p[1],y_f])\n",
    "                    start_p = [x_f,y_f]\n",
    "            \n",
    "            plt.xlim(max_p*scale, max_p*scale*-1)\n",
    "            plt.ylim(max_p*scale, max_p*scale*-1)\n",
    "            plt.grid(True)\n",
    "            plt.scatter(data_point[0], data_point[1], c='r')\n",
    "        \n",
    "        plt.show()"
   ]
  },
  {
   "cell_type": "code",
   "execution_count": 247,
   "id": "a4d08eee",
   "metadata": {},
   "outputs": [
    {
     "data": {
      "text/plain": [
       "<Figure size 432x288 with 0 Axes>"
      ]
     },
     "metadata": {},
     "output_type": "display_data"
    }
   ],
   "source": [
    "test_point = System()\n",
    "\n",
    "f = Function(0,8,np.array([0,0]), (2*math.pi)/1)\n",
    "g = Function(0,3,np.array([0,0]), (11*math.pi))\n",
    "\n",
    "test_point.add_function(f)\n",
    "test_point.add_function(g)\n",
    "\n",
    "# test_point.plot_single_point(2.5, None)\n",
    "\n",
    "test_point.plot_images_range(200, [0,5])"
   ]
  },
  {
   "cell_type": "code",
   "execution_count": 222,
   "id": "95503dd8",
   "metadata": {},
   "outputs": [],
   "source": [
    "f = Function(0,3,np.array([0,0]), 2*math.pi)\n",
    "g = Function(0,8,np.array([0,0]), (2*math.pi)/5)"
   ]
  },
  {
   "cell_type": "code",
   "execution_count": 174,
   "id": "f8e55b45",
   "metadata": {},
   "outputs": [],
   "source": [
    "s = System()\n",
    "s.add_function(f)\n",
    "s.add_function(g)"
   ]
  },
  {
   "cell_type": "code",
   "execution_count": 233,
   "id": "328007ca",
   "metadata": {},
   "outputs": [
    {
     "data": {
      "text/plain": [
       "[<matplotlib.lines.Line2D at 0x7f7c6551cdf0>]"
      ]
     },
     "execution_count": 233,
     "metadata": {},
     "output_type": "execute_result"
    },
    {
     "data": {
      "image/png": "[encoded data removed]",
      "text/plain": [
       "<Figure size 432x288 with 1 Axes>"
      ]
     },
     "metadata": {
      "needs_background": "light"
     },
     "output_type": "display_data"
    }
   ],
   "source": [
    "data = s.plot_range([0,2], None, 200)\n",
    "plt.plot(data[:,0], data[:,1], c='r')"
   ]
  },
  {
   "cell_type": "code",
   "execution_count": null,
   "id": "7c6b36a9",
   "metadata": {},
   "outputs": [],
   "source": []
  },
  {
   "cell_type": "code",
   "execution_count": null,
   "id": "e894c716",
   "metadata": {},
   "outputs": [],
   "source": []
  }
 ],
 "metadata": {
  "kernelspec": {
   "display_name": "Python 3.8.8 64-bit ('base': conda)",
   "language": "python",
   "name": "python388jvsc74a57bd0c7eea60f8809a76eae1cc3b53786620a3765221716aed14bd366d924cf46e245"
  },
  "language_info": {
   "codemirror_mode": {
    "name": "ipython",
    "version": 3
   },
   "file_extension": ".py",
   "mimetype": "text/x-python",
   "name": "python",
   "nbconvert_exporter": "python",
   "pygments_lexer": "ipython3",
   "version": "3.8.8"
  }
 },
 "nbformat": 4,
 "nbformat_minor": 5
}
