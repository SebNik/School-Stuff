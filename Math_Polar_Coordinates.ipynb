{
 "cells": [
  {
   "cell_type": "markdown",
   "id": "061f9c31",
   "metadata": {},
   "source": [
    "# Math Polar Coordinates | Niklas Abraham | 09.07.2021"
   ]
  },
  {
   "cell_type": "markdown",
   "id": "59ce8860",
   "metadata": {},
   "source": [
    "This following document is used to explain the polar coordinates system for a maths presentation."
   ]
  },
  {
   "cell_type": "markdown",
   "id": "11f71058",
   "metadata": {},
   "source": [
    "Performing the imports for the code."
   ]
  },
  {
   "cell_type": "code",
   "execution_count": 421,
   "id": "07a776b8",
   "metadata": {},
   "outputs": [],
   "source": [
    "import os\n",
    "import math\n",
    "import datetime\n",
    "import numpy as np\n",
    "from cycler import cycler\n",
    "import matplotlib.pyplot as plt\n",
    "from matplotlib.colors import hsv_to_rgb"
   ]
  },
  {
   "cell_type": "markdown",
   "id": "1e4a56ed",
   "metadata": {},
   "source": [
    "### Simple plots examples "
   ]
  },
  {
   "cell_type": "markdown",
   "id": "8b41b2b2",
   "metadata": {},
   "source": [
    "A simple function groupd used to converts the to the diffrent types of systems."
   ]
  },
  {
   "cell_type": "code",
   "execution_count": 422,
   "id": "88eb88c9",
   "metadata": {},
   "outputs": [],
   "source": [
    "def cart2pol(x, y):\n",
    "    rho = np.sqrt(x**2 + y**2)\n",
    "    phi = np.arctan2(y, x)\n",
    "    return(rho, phi)\n",
    "\n",
    "def pol2cart(rho, phi):\n",
    "    x = rho * np.cos(phi)\n",
    "    y = rho * np.sin(phi)\n",
    "    return(x, y)"
   ]
  },
  {
   "cell_type": "markdown",
   "id": "ce7e7393",
   "metadata": {},
   "source": [
    "A simple function show how the polar coordinates are displayed."
   ]
  },
  {
   "cell_type": "code",
   "execution_count": 416,
   "id": "37420220",
   "metadata": {},
   "outputs": [],
   "source": [
    "def single_point(phi, r, scale=1.25):\n",
    "    # this function will plot single point with all the explanition nessary\n",
    "    # calculating the relavant data points\n",
    "    x_d,y_d = pol2cart(r, phi)\n",
    "    print(\"Coordinates: \"+str(x_d)+\" || \"+str(y_d))    \n",
    "    \n",
    "    # the rest is just plotting\n",
    "\n",
    "    fig, ax = plt.subplots(figsize=(10, 10))\n",
    "    fig.patch.set_facecolor('w')\n",
    "    \n",
    "    # Select length of axes and the space between tick labels\n",
    "    xmin, xmax, ymin, ymax = -5, 5, -5, 5\n",
    "    ticks_frequency = 1\n",
    "    \n",
    "    # Set identical scales for both axes\n",
    "    ax.set(xlim=(xmin-1, xmax+1), ylim=(ymin-1, ymax+1), aspect='equal')\n",
    "    \n",
    "    # Set bottom and left spines as x and y axes of coordinate system\n",
    "    ax.spines['bottom'].set_position('zero')\n",
    "    ax.spines['left'].set_position('zero')\n",
    "\n",
    "    # Remove top and right spines\n",
    "    ax.spines['top'].set_visible(False)\n",
    "    ax.spines['right'].set_visible(False)\n",
    "\n",
    "    # Create 'x' and 'y' labels placed at the end of the axes\n",
    "    ax.set_xlabel('x', size=14, labelpad=-24, x=1.03)\n",
    "    ax.set_ylabel('y', size=14, labelpad=-21, y=1.02, rotation=0)\n",
    "    \n",
    "    \n",
    "    # Create custom major ticks to determine position of tick labels\n",
    "    x_ticks = np.arange(xmin, xmax+1, ticks_frequency)\n",
    "    y_ticks = np.arange(ymin, ymax+1, ticks_frequency)\n",
    "    ax.set_xticks(x_ticks[x_ticks != 0])\n",
    "    ax.set_yticks(y_ticks[y_ticks != 0])\n",
    "\n",
    "    # Create minor ticks placed at each integer to enable drawing of minor grid\n",
    "    # lines: note that this has no effect in this example with ticks_frequency=1\n",
    "    ax.set_xticks(np.arange(xmin, xmax+1), minor=True)\n",
    "    ax.set_yticks(np.arange(ymin, ymax+1), minor=True)\n",
    "\n",
    "    # Draw major and minor grid lines\n",
    "    ax.grid(which='both', color='grey', linewidth=1, linestyle='-', alpha=0.2)\n",
    "\n",
    "    # Draw arrows\n",
    "    arrow_fmt = dict(markersize=4, color='black', clip_on=False)\n",
    "    ax.plot((1), (0), marker='>', transform=ax.get_yaxis_transform(), **arrow_fmt)\n",
    "    ax.plot((0), (1), marker='^', transform=ax.get_xaxis_transform(), **arrow_fmt)\n",
    "    \n",
    "    # plotting the point to origin line\n",
    "    ax.plot([0,x_d], [0,y_d], c='r', alpha=0.25, linewidth=3)\n",
    "    \n",
    "    # plotting the angle between the x-axis and point line    \n",
    "    m1, b1 = 0,  0 # slope & intercept (line 1)\n",
    "    m2, b2 = y_d/x_d, 0 # slope & intercept (line 2)\n",
    "\n",
    "    x0 = (b2-b1) / (m1-m2)\n",
    "    y0 = m1 * x0 + b1\n",
    "\n",
    "    theta = np.linspace(0, 2*np.pi, 100)\n",
    "\n",
    "    r = np.sqrt(4.0) # circle radius\n",
    "\n",
    "    x1 = r * np.cos(theta) + x0\n",
    "    x2 = r * np.sin(theta) + y0\n",
    "\n",
    "    x_list = []\n",
    "    y_list = []\n",
    "\n",
    "    def line_and_circle_intersection_points(m,b,x0,y0,r):\n",
    "\n",
    "        c1 = 1 + m ** 2\n",
    "        c2 = - 2.0 * x0 + 2 * m * ( b - y0 )\n",
    "        c3 = x0 ** 2 + ( b - y0 ) ** 2 - r ** 2\n",
    "\n",
    "        # solve the quadratic equation:\n",
    "\n",
    "        delta = c2 ** 2 - 4.0 * c1 * c3\n",
    "\n",
    "        x1 = ( - c2 + np.sqrt(delta) ) / ( 2.0 * c1 )\n",
    "        x2 = ( - c2 - np.sqrt(delta) ) / ( 2.0 * c1 )\n",
    "\n",
    "        x_list.append(x1)\n",
    "        x_list.append(x2)\n",
    "\n",
    "        y1 = m * x1 + b\n",
    "        y2 = m * x2 + b\n",
    "\n",
    "        y_list.append(y1)\n",
    "        y_list.append(y2)\n",
    "\n",
    "        return None\n",
    "\n",
    "    line_and_circle_intersection_points(m1,b1,x0,y0,r)\n",
    "    line_and_circle_intersection_points(m2,b2,x0,y0,r)\n",
    "\n",
    "    def get_point_angle(x,y,x0,y0):\n",
    "\n",
    "        num = x - x0\n",
    "        den = np.sqrt( ( x - x0 )**2 + ( y - y0 )**2 )\n",
    "\n",
    "        theta = np.arccos( num / den )\n",
    "\n",
    "        if not y - y0 >= 0: theta = 2 * np.pi - theta\n",
    "\n",
    "        #print(theta, np.rad2deg(theta), y - y0 )\n",
    "\n",
    "        return theta\n",
    "\n",
    "    theta_list = []\n",
    "\n",
    "    for i in range(len(x_list)):\n",
    "\n",
    "        x = x_list[i]\n",
    "        y = y_list[i]\n",
    "\n",
    "        theta_list.append( get_point_angle(x,y,x0,y0) )\n",
    "\n",
    "    theta_1 = theta_list[0]\n",
    "    theta_2 = theta_list[2 if x_d > 0 else 3]\n",
    "\n",
    "    theta = np.linspace(theta_1, theta_2, 100)\n",
    "\n",
    "    x1 = r * np.cos(theta) + x0\n",
    "    x2 = r * np.sin(theta) + y0\n",
    "\n",
    "    ax.plot(x1, x2, color='gray', linewidth=3, alpha=0.4)\n",
    "\n",
    "    mid_angle = ( theta_1 + theta_2 ) / 2.0\n",
    "\n",
    "    mid_angle_x = (r+0.45) * np.cos(mid_angle) + x0\n",
    "    mid_angle_y = (r+0.45) * np.sin(mid_angle) + y0\n",
    "\n",
    "    angle_value = round( np.rad2deg(abs(theta_1-theta_2)), 2)\n",
    "\n",
    "    plt.text(mid_angle_x, mid_angle_y, str(angle_value)+\"°\", fontsize=15)\n",
    "    \n",
    "    # plotting the data point\n",
    "    ax.scatter(x_d,y_d, c='r', linewidth=3)\n",
    "\n",
    "    \n",
    "    plt.grid(True)\n",
    "    fig.savefig('whatever.png', facecolor=fig.get_facecolor(), edgecolor='none')\n",
    "    plt.show()"
   ]
  },
  {
   "cell_type": "code",
   "execution_count": 419,
   "id": "f8652327",
   "metadata": {
    "scrolled": false
   },
   "outputs": [
    {
     "name": "stdout",
     "output_type": "stream",
     "text": [
      "Coordinates: 3.5355339059327378 || 3.5355339059327373\n"
     ]
    },
    {
     "data": {
      "image/png": "[encoded data removed]",
      "text/plain": [
       "<Figure size 720x720 with 1 Axes>"
      ]
     },
     "metadata": {},
     "output_type": "display_data"
    }
   ],
   "source": [
    "single_point(math.pi/4, 5)"
   ]
  },
  {
   "cell_type": "code",
   "execution_count": 273,
   "id": "b6d94f57",
   "metadata": {},
   "outputs": [],
   "source": [
    "# %matplotlib inline"
   ]
  },
  {
   "cell_type": "code",
   "execution_count": 423,
   "id": "5ecc92d6",
   "metadata": {},
   "outputs": [],
   "source": [
    "class Function:\n",
    "    def __init__(self, phi, R, p, omega):\n",
    "        #print(\"Creating a new function for polar coordinates\")\n",
    "        self.phi = phi\n",
    "        self.R = R\n",
    "        self.p = p\n",
    "        self.omega = omega\n",
    "        \n",
    "    def cal_x_y_coordinates(self, phi, R, p):\n",
    "        # calculating the values of x and y\n",
    "        # checking with the omega if movement\n",
    "        if self.omega is None:\n",
    "            x = math.cos(phi) * R + p[0]\n",
    "            y = math.sin(phi) * R + p[1]\n",
    "        else:\n",
    "            x = math.cos(phi * self.omega) * R + p[0]\n",
    "            y = math.sin(phi * self.omega) * R + p[1]\n",
    "        return x,y"
   ]
  },
  {
   "cell_type": "code",
   "execution_count": 432,
   "id": "18d91586",
   "metadata": {},
   "outputs": [],
   "source": [
    "class System:\n",
    "    def __init__(self):\n",
    "        self.functions = []\n",
    "        \n",
    "    def add_function(self, f):\n",
    "        self.functions.append(f)\n",
    "        \n",
    "    def cal_point(self, phi, R):\n",
    "        #\n",
    "        x,y = 0,0\n",
    "        \n",
    "        if R is None:\n",
    "            for f in self.functions:\n",
    "                x_f, y_f = f.cal_x_y_coordinates(phi, f.R, f.p)\n",
    "                x += x_f\n",
    "                y += y_f\n",
    "                \n",
    "        return np.array([x,y])\n",
    "    \n",
    "    def plot_range(self, phi, R, n):\n",
    "        #\n",
    "        if R is None:\n",
    "            range_phi = np.linspace(phi[0], phi[1], num=n)\n",
    "            data = [self.cal_point(phi, R) for phi in range_phi]\n",
    "            \n",
    "            return np.array(data)\n",
    "        \n",
    "        \n",
    "    def plot_images_range(self, steps, time_range, folder=None, single_levers=True, R=None, scale=1.25, path_line=True):\n",
    "        # this function is plotting the images in a special folder\n",
    "        if (len(self.functions) < 1):\n",
    "            print(' ------- No functions to simulate ------------')\n",
    "            return None\n",
    "        \n",
    "        if not os.path.isdir('images_math'):\n",
    "            os.makedirs('images_math')\n",
    "        self.newpath = 'images_math/'+str(datetime.datetime.now().strftime(\"%d_%m_%Y__%H_%M_%S\"))\n",
    "        os.makedirs(self.newpath)\n",
    "        \n",
    "        steps_array = np.linspace(time_range[0],time_range[1], num = steps)\n",
    "\n",
    "        for i in range(0, len(steps_array)):\n",
    "            if R is None:\n",
    "                data_point = self.cal_point(steps_array[i], R)\n",
    "\n",
    "                fig, ax = plt.subplots(figsize=(10, 10))\n",
    "                fig.patch.set_facecolor('w')\n",
    "\n",
    "                max_p = sum([f.R for f in self.functions])\n",
    "\n",
    "                if single_levers:\n",
    "                    start_p = [0,0]\n",
    "                    for f in self.functions:\n",
    "                        x_f, y_f = f.cal_x_y_coordinates(steps_array[i], f.R, start_p)\n",
    "                        ax.plot([start_p[0],x_f], [start_p[1],y_f], linewidth='3')\n",
    "                        start_p = [x_f,y_f]\n",
    "                \n",
    "                if path_line:\n",
    "                    range_phi = np.linspace(time_range[0], steps_array[i], num=500)\n",
    "                    data = np.array([self.cal_point(phi, R) for phi in range_phi])\n",
    "                    ax.plot(data[:,0], data[:,1], c='r', alpha=0.3, linewidth=2)\n",
    "                    \n",
    "\n",
    "                ax.set_xlim(max_p*scale, max_p*scale*-1)\n",
    "                ax.set_ylim(max_p*scale, max_p*scale*-1)\n",
    "                plt.grid(True)\n",
    "                ax.scatter(data_point[0], data_point[1], c='r', linewidth=5)\n",
    "                fig.savefig(self.newpath+'/'+str(i)+'.png', facecolor=fig.get_facecolor(), edgecolor='none')\n",
    "                plt.close()\n",
    "                plt.clf()\n",
    "        \n",
    "\n",
    "    def plot_single_point(self, phi, R, scale=1.25, single_levers=True):\n",
    "        # plotting a single point\n",
    "        # only phi and R is None        \n",
    "        \n",
    "        if R is None:\n",
    "            data_point = self.cal_point(phi, R)\n",
    "\n",
    "            # plt.xlim(data_point[0]*scale, data_point[0]*scale*-1)\n",
    "            # plt.ylim(data_point[1]*scale, data_point[1]*scale*-1)\n",
    "            max_p = sum([f.R for f in self.functions])\n",
    "\n",
    "            if single_levers:\n",
    "                start_p = [0,0]\n",
    "                for f in self.functions:\n",
    "                    x_f, y_f = f.cal_x_y_coordinates(phi, f.R, start_p)\n",
    "                    plt.plot([start_p[0],x_f], [start_p[1],y_f])\n",
    "                    start_p = [x_f,y_f]\n",
    "            \n",
    "            plt.xlim(max_p*scale, max_p*scale*-1)\n",
    "            plt.ylim(max_p*scale, max_p*scale*-1)\n",
    "            plt.grid(True)\n",
    "            plt.scatter(data_point[0], data_point[1], c='r')\n",
    "        \n",
    "        plt.show()"
   ]
  },
  {
   "cell_type": "code",
   "execution_count": 434,
   "id": "45196dfa",
   "metadata": {},
   "outputs": [
    {
     "data": {
      "image/png": "[encoded data removed]",
      "text/plain": [
       "<Figure size 432x288 with 1 Axes>"
      ]
     },
     "metadata": {
      "needs_background": "light"
     },
     "output_type": "display_data"
    },
    {
     "data": {
      "text/plain": [
       "<Figure size 432x288 with 0 Axes>"
      ]
     },
     "metadata": {},
     "output_type": "display_data"
    }
   ],
   "source": [
    "test_point = System()\n",
    "\n",
    "f = Function(0,12,np.array([0,0]), (2*math.pi)/365)\n",
    "g = Function(0,6,np.array([0,0]), (2*math.pi)/30)\n",
    "# h = Function(0,3,np.array([0,0]), (18*math.pi))\n",
    "\n",
    "test_point.add_function(f)\n",
    "test_point.add_function(g)\n",
    "# test_point.add_function(h)\n",
    "\n",
    "test_point.plot_single_point(2.5, None)\n",
    "\n",
    "test_point.plot_images_range(200, [0,5])"
   ]
  },
  {
   "cell_type": "markdown",
   "id": "474760a8",
   "metadata": {},
   "source": [
    "Single test"
   ]
  },
  {
   "cell_type": "code",
   "execution_count": 426,
   "id": "95503dd8",
   "metadata": {},
   "outputs": [],
   "source": [
    "f = Function(0,3,np.array([0,0]), 2*math.pi)\n",
    "g = Function(0,8,np.array([0,0]), (2*math.pi)/5)"
   ]
  },
  {
   "cell_type": "code",
   "execution_count": 427,
   "id": "f8e55b45",
   "metadata": {},
   "outputs": [],
   "source": [
    "s = System()\n",
    "s.add_function(f)\n",
    "s.add_function(g)"
   ]
  },
  {
   "cell_type": "code",
   "execution_count": 428,
   "id": "328007ca",
   "metadata": {},
   "outputs": [
    {
     "data": {
      "text/plain": [
       "[<matplotlib.lines.Line2D at 0x7f7c6371b250>]"
      ]
     },
     "execution_count": 428,
     "metadata": {},
     "output_type": "execute_result"
    },
    {
     "data": {
      "image/png": "[encoded data removed]",
      "text/plain": [
       "<Figure size 432x288 with 1 Axes>"
      ]
     },
     "metadata": {
      "needs_background": "light"
     },
     "output_type": "display_data"
    }
   ],
   "source": [
    "data = s.plot_range([0,2], None, 200)\n",
    "plt.plot(data[:,0], data[:,1], c='r')"
   ]
  },
  {
   "cell_type": "code",
   "execution_count": null,
   "id": "7c6b36a9",
   "metadata": {},
   "outputs": [],
   "source": []
  }
 ],
 "metadata": {
  "kernelspec": {
   "display_name": "Python 3.8.8 64-bit ('base': conda)",
   "language": "python",
   "name": "python388jvsc74a57bd0c7eea60f8809a76eae1cc3b53786620a3765221716aed14bd366d924cf46e245"
  },
  "language_info": {
   "codemirror_mode": {
    "name": "ipython",
    "version": 3
   },
   "file_extension": ".py",
   "mimetype": "text/x-python",
   "name": "python",
   "nbconvert_exporter": "python",
   "pygments_lexer": "ipython3",
   "version": "3.8.8"
  }
 },
 "nbformat": 4,
 "nbformat_minor": 5
}
